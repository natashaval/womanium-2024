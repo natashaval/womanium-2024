{
 "cells": [
  {
   "cell_type": "code",
   "execution_count": 1,
   "metadata": {},
   "outputs": [
    {
     "name": "stderr",
     "output_type": "stream",
     "text": [
      "/home/natashaval/.local/lib/python3.10/site-packages/matplotlib/projections/__init__.py:63: UserWarning: Unable to import Axes3D. This may be due to multiple versions of Matplotlib being installed (e.g. as a system package and as a pip package). As a result, the 3D projection is not available.\n",
      "  warnings.warn(\"Unable to import Axes3D. This may be due to multiple versions of \"\n"
     ]
    },
    {
     "name": "stdout",
     "output_type": "stream",
     "text": [
      "Opening: https://platform.classiq.io/circuit/d6cbe341-1fcd-4518-b333-6885c378bc31?version=0.42.2\n"
     ]
    },
    {
     "name": "stderr",
     "output_type": "stream",
     "text": [
      "/bin/xdg-open: 882: x-www-browser: not found\n",
      "/bin/xdg-open: 882: firefox: not found\n",
      "/bin/xdg-open: 882: iceweasel: not found\n",
      "/bin/xdg-open: 882: seamonkey: not found\n",
      "/bin/xdg-open: 882: mozilla: not found\n",
      "/bin/xdg-open: 882: epiphany: not found\n",
      "/bin/xdg-open: 882: konqueror: not found\n",
      "/bin/xdg-open: 882: chromium: not found\n",
      "/bin/xdg-open: 882: chromium-browser: not found\n",
      "/bin/xdg-open: 882: google-chrome: not found\n",
      "/bin/xdg-open: 882: www-browser: not found\n",
      "/bin/xdg-open: 882: links2: not found\n",
      "/bin/xdg-open: 882: elinks: not found\n",
      "/bin/xdg-open: 882: links: not found\n",
      "/bin/xdg-open: 882: lynx: not found\n",
      "/bin/xdg-open: 882: w3m: not found\n",
      "xdg-open: no method available for opening 'https://platform.classiq.io/circuit/d6cbe341-1fcd-4518-b333-6885c378bc31?version=0.42.2'\n"
     ]
    }
   ],
   "source": [
    "from classiq import *\n",
    "\n",
    "\n",
    "@qfunc\n",
    "def main(x: Output[QNum], y: Output[QNum]):\n",
    "\n",
    "    allocate(4, x)\n",
    "    hadamard_transform(x)  # creates a uniform superposition\n",
    "    y |= x**2 + 1\n",
    "\n",
    "\n",
    "quantum_program = synthesize(create_model(main))\n",
    "show(quantum_program)"
   ]
  }
 ],
 "metadata": {
  "kernelspec": {
   "display_name": "Python 3",
   "language": "python",
   "name": "python3"
  },
  "language_info": {
   "codemirror_mode": {
    "name": "ipython",
    "version": 3
   },
   "file_extension": ".py",
   "mimetype": "text/x-python",
   "name": "python",
   "nbconvert_exporter": "python",
   "pygments_lexer": "ipython3",
   "version": "3.10.12"
  }
 },
 "nbformat": 4,
 "nbformat_minor": 2
}
