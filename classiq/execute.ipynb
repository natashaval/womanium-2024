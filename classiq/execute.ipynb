{
 "cells": [
  {
   "cell_type": "markdown",
   "metadata": {},
   "source": [
    "https://docs.classiq.io/latest/classiq_101/classiq_concepts/execute/"
   ]
  },
  {
   "cell_type": "code",
   "execution_count": 1,
   "metadata": {},
   "outputs": [
    {
     "name": "stderr",
     "output_type": "stream",
     "text": [
      "/home/natashaval/.local/lib/python3.10/site-packages/matplotlib/projections/__init__.py:63: UserWarning: Unable to import Axes3D. This may be due to multiple versions of Matplotlib being installed (e.g. as a system package and as a pip package). As a result, the 3D projection is not available.\n",
      "  warnings.warn(\"Unable to import Axes3D. This may be due to multiple versions of \"\n"
     ]
    }
   ],
   "source": [
    "from classiq import *"
   ]
  },
  {
   "cell_type": "code",
   "execution_count": 2,
   "metadata": {},
   "outputs": [],
   "source": [
    "@qfunc\n",
    "def main(x: Output[QNum], y: Output[QNum]):\n",
    "\n",
    "    allocate(4, x)\n",
    "    hadamard_transform(x)  # creates a uniform superposition\n",
    "    y |= x**2 + 1"
   ]
  },
  {
   "cell_type": "code",
   "execution_count": 3,
   "metadata": {},
   "outputs": [],
   "source": [
    "quantum_program = synthesize(create_model(main))\n"
   ]
  },
  {
   "cell_type": "code",
   "execution_count": 4,
   "metadata": {},
   "outputs": [
    {
     "name": "stdout",
     "output_type": "stream",
     "text": [
      "[{'x': 15.0, 'y': 226.0}: 147, {'x': 13.0, 'y': 170.0}: 147, {'x': 1.0, 'y': 2.0}: 144, {'x': 3.0, 'y': 10.0}: 138, {'x': 7.0, 'y': 50.0}: 133, {'x': 2.0, 'y': 5.0}: 131, {'x': 8.0, 'y': 65.0}: 129, {'x': 11.0, 'y': 122.0}: 129, {'x': 12.0, 'y': 145.0}: 128, {'x': 4.0, 'y': 17.0}: 127, {'x': 9.0, 'y': 82.0}: 126, {'x': 5.0, 'y': 26.0}: 124, {'x': 6.0, 'y': 37.0}: 120, {'x': 10.0, 'y': 101.0}: 118, {'x': 0.0, 'y': 1.0}: 107, {'x': 14.0, 'y': 197.0}: 100]\n"
     ]
    }
   ],
   "source": [
    "job = execute(quantum_program)\n",
    "results = job.result()[0].value.parsed_counts\n",
    "print(results)"
   ]
  },
  {
   "cell_type": "code",
   "execution_count": 5,
   "metadata": {},
   "outputs": [],
   "source": [
    "from classiq.execution import ExecutionPreferences\n",
    "\n",
    "quantum_model = create_model(main)\n",
    "quantum_model_with_execution_preferences = set_execution_preferences(\n",
    "    quantum_model,\n",
    "    ExecutionPreferences(\n",
    "        num_shots=2048, job_name=\"classiq 101 - execute\", random_seed=767\n",
    "    )\n",
    ")"
   ]
  },
  {
   "cell_type": "code",
   "execution_count": 6,
   "metadata": {},
   "outputs": [],
   "source": [
    "quantum_program_with_execution_preferences = synthesize(\n",
    "    quantum_model_with_execution_preferences\n",
    ")\n",
    "job = execute(quantum_program_with_execution_preferences)"
   ]
  },
  {
   "cell_type": "code",
   "execution_count": 7,
   "metadata": {},
   "outputs": [
    {
     "name": "stdout",
     "output_type": "stream",
     "text": [
      "The job on the provider Classiq on the backend simulator with 2048 shots is QUEUED can be accessed in the IDE with this URL: https://platform.classiq.io/jobs/b3cea888-c975-4afb-becc-9e13eebe015f\n"
     ]
    }
   ],
   "source": [
    "print(\n",
    "    f\"The job on the provider {job.provider} on the backend {job.backend_name} with {job.num_shots} shots is {job.status} can be accessed in the IDE with this URL: {job.ide_url}\"\n",
    ")"
   ]
  },
  {
   "cell_type": "code",
   "execution_count": 8,
   "metadata": {},
   "outputs": [
    {
     "name": "stderr",
     "output_type": "stream",
     "text": [
      "/bin/xdg-open: 882: x-www-browser: not found\n",
      "/bin/xdg-open: 882: firefox: not found\n",
      "/bin/xdg-open: 882: iceweasel: not found\n",
      "/bin/xdg-open: 882: seamonkey: not found\n",
      "/bin/xdg-open: 882: mozilla: not found\n",
      "/bin/xdg-open: 882: epiphany: not found\n",
      "/bin/xdg-open: 882: konqueror: not found\n",
      "/bin/xdg-open: 882: chromium: not found\n",
      "/bin/xdg-open: 882: chromium-browser: not found\n",
      "/bin/xdg-open: 882: google-chrome: not found\n",
      "/bin/xdg-open: 882: www-browser: not found\n",
      "/bin/xdg-open: 882: links2: not found\n",
      "/bin/xdg-open: 882: elinks: not found\n",
      "/bin/xdg-open: 882: links: not found\n",
      "/bin/xdg-open: 882: lynx: not found\n",
      "/bin/xdg-open: 882: w3m: not found\n",
      "xdg-open: no method available for opening 'https://platform.classiq.io/jobs/b3cea888-c975-4afb-becc-9e13eebe015f'\n"
     ]
    }
   ],
   "source": [
    "job.open_in_ide()\n"
   ]
  },
  {
   "cell_type": "code",
   "execution_count": 14,
   "metadata": {},
   "outputs": [],
   "source": [
    "results = job.result()[0].value\n"
   ]
  },
  {
   "cell_type": "code",
   "execution_count": 13,
   "metadata": {},
   "outputs": [
    {
     "name": "stdout",
     "output_type": "stream",
     "text": [
      "[{'x': 6.0, 'y': 37.0}: 146, {'x': 3.0, 'y': 10.0}: 143, {'x': 12.0, 'y': 145.0}: 141, {'x': 9.0, 'y': 82.0}: 137, {'x': 15.0, 'y': 226.0}: 134, {'x': 13.0, 'y': 170.0}: 133, {'x': 14.0, 'y': 197.0}: 133, {'x': 2.0, 'y': 5.0}: 133, {'x': 7.0, 'y': 50.0}: 129, {'x': 11.0, 'y': 122.0}: 128, {'x': 10.0, 'y': 101.0}: 126, {'x': 1.0, 'y': 2.0}: 123, {'x': 4.0, 'y': 17.0}: 117, {'x': 8.0, 'y': 65.0}: 115, {'x': 5.0, 'y': 26.0}: 111, {'x': 0.0, 'y': 1.0}: 99]\n"
     ]
    }
   ],
   "source": [
    "print(results.parsed_counts)"
   ]
  },
  {
   "cell_type": "code",
   "execution_count": 11,
   "metadata": {},
   "outputs": [
    {
     "name": "stdout",
     "output_type": "stream",
     "text": [
      "{'000000100001': 123, '010100101001': 137, '000100010100': 117, '111000101111': 134, '000000010000': 99, '001100100111': 129, '000010100011': 143, '101010101101': 133, '000110100101': 111, '010000011000': 115, '001001010110': 146, '011110101011': 128, '100100011100': 141, '110001011110': 133, '000001010010': 133, '011001011010': 126}\n"
     ]
    }
   ],
   "source": [
    "print(results.counts)\n"
   ]
  },
  {
   "cell_type": "code",
   "execution_count": 12,
   "metadata": {},
   "outputs": [
    {
     "name": "stdout",
     "output_type": "stream",
     "text": [
      "{'000000100001': {'x': 1.0, 'y': 2.0}, '010100101001': {'x': 9.0, 'y': 82.0}, '000100010100': {'x': 4.0, 'y': 17.0}, '111000101111': {'x': 15.0, 'y': 226.0}, '000000010000': {'x': 0.0, 'y': 1.0}, '001100100111': {'x': 7.0, 'y': 50.0}, '000010100011': {'x': 3.0, 'y': 10.0}, '101010101101': {'x': 13.0, 'y': 170.0}, '000110100101': {'x': 5.0, 'y': 26.0}, '010000011000': {'x': 8.0, 'y': 65.0}, '001001010110': {'x': 6.0, 'y': 37.0}, '011110101011': {'x': 11.0, 'y': 122.0}, '100100011100': {'x': 12.0, 'y': 145.0}, '110001011110': {'x': 14.0, 'y': 197.0}, '000001010010': {'x': 2.0, 'y': 5.0}, '011001011010': {'x': 10.0, 'y': 101.0}}\n"
     ]
    }
   ],
   "source": [
    "print(results.parsed_states)\n"
   ]
  },
  {
   "cell_type": "code",
   "execution_count": 15,
   "metadata": {},
   "outputs": [
    {
     "name": "stdout",
     "output_type": "stream",
     "text": [
      "True\n"
     ]
    }
   ],
   "source": [
    "print(results.counts_lsb_right)\n"
   ]
  },
  {
   "cell_type": "code",
   "execution_count": 16,
   "metadata": {},
   "outputs": [],
   "source": [
    "write_qmod(quantum_model_with_execution_preferences, \"execute\")\n"
   ]
  }
 ],
 "metadata": {
  "kernelspec": {
   "display_name": "Python 3",
   "language": "python",
   "name": "python3"
  },
  "language_info": {
   "codemirror_mode": {
    "name": "ipython",
    "version": 3
   },
   "file_extension": ".py",
   "mimetype": "text/x-python",
   "name": "python",
   "nbconvert_exporter": "python",
   "pygments_lexer": "ipython3",
   "version": "3.10.12"
  }
 },
 "nbformat": 4,
 "nbformat_minor": 2
}
