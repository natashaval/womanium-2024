{
 "cells": [
  {
   "cell_type": "code",
   "execution_count": 4,
   "metadata": {},
   "outputs": [
    {
     "name": "stderr",
     "output_type": "stream",
     "text": [
      "/home/natashaval/.local/lib/python3.10/site-packages/matplotlib/projections/__init__.py:63: UserWarning: Unable to import Axes3D. This may be due to multiple versions of Matplotlib being installed (e.g. as a system package and as a pip package). As a result, the 3D projection is not available.\n",
      "  warnings.warn(\"Unable to import Axes3D. This may be due to multiple versions of \"\n"
     ]
    },
    {
     "name": "stdout",
     "output_type": "stream",
     "text": [
      "Opening: https://platform.classiq.io/circuit/3cb036ed-e926-44d5-9e71-f5f4eddd7795?version=0.42.2\n"
     ]
    },
    {
     "name": "stderr",
     "output_type": "stream",
     "text": [
      "/bin/xdg-open: 882: x-www-browser: not found\n",
      "/bin/xdg-open: 882: firefox: not found\n",
      "/bin/xdg-open: 882: iceweasel: not found\n",
      "/bin/xdg-open: 882: seamonkey: not found\n",
      "/bin/xdg-open: 882: mozilla: not found\n",
      "/bin/xdg-open: 882: epiphany: not found\n",
      "/bin/xdg-open: 882: konqueror: not found\n",
      "/bin/xdg-open: 882: chromium: not found\n",
      "/bin/xdg-open: 882: chromium-browser: not found\n",
      "/bin/xdg-open: 882: google-chrome: not found\n",
      "/bin/xdg-open: 882: www-browser: not found\n",
      "/bin/xdg-open: 882: links2: not found\n",
      "/bin/xdg-open: 882: elinks: not found\n",
      "/bin/xdg-open: 882: links: not found\n",
      "/bin/xdg-open: 882: lynx: not found\n",
      "/bin/xdg-open: 882: w3m: not found\n",
      "xdg-open: no method available for opening 'https://platform.classiq.io/circuit/3cb036ed-e926-44d5-9e71-f5f4eddd7795?version=0.42.2'\n"
     ]
    }
   ],
   "source": [
    "from classiq import QArray, X, qfunc\n",
    "\n",
    "@qfunc\n",
    "def flip_lsb(reg: QArray):\n",
    "    X(reg[0])\n",
    "\n",
    "from classiq import Output, QBit, QNum, allocate\n",
    "\n",
    "@qfunc\n",
    "def main(indicator: Output[QBit]):\n",
    "    x = QNum(\"x\")\n",
    "    allocate(4, x)\n",
    "    flip_lsb(x)\n",
    "    \n",
    "    indicator |= x == 1\n",
    "\n",
    "from classiq import create_model, show, synthesize\n",
    "\n",
    "quantum_program = synthesize(create_model(main))\n",
    "show(quantum_program)"
   ]
  },
  {
   "cell_type": "code",
   "execution_count": 5,
   "metadata": {},
   "outputs": [
    {
     "name": "stdout",
     "output_type": "stream",
     "text": [
      "[{'indicator': 1.0}: 2048]\n"
     ]
    }
   ],
   "source": [
    "from classiq import execute\n",
    "\n",
    "job = execute(quantum_program)\n",
    "results = job.result()[0].value.parsed_counts\n",
    "print(results)"
   ]
  }
 ],
 "metadata": {
  "kernelspec": {
   "display_name": ".venv",
   "language": "python",
   "name": "python3"
  },
  "language_info": {
   "codemirror_mode": {
    "name": "ipython",
    "version": 3
   },
   "file_extension": ".py",
   "mimetype": "text/x-python",
   "name": "python",
   "nbconvert_exporter": "python",
   "pygments_lexer": "ipython3",
   "version": "3.10.12"
  }
 },
 "nbformat": 4,
 "nbformat_minor": 2
}
