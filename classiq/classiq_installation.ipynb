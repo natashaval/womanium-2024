{
 "cells": [
  {
   "cell_type": "code",
   "execution_count": 1,
   "metadata": {},
   "outputs": [
    {
     "name": "stdout",
     "output_type": "stream",
     "text": [
      "Your user code: HMFS-PFXB\n",
      "If a browser doesn't automatically open, please visit this URL from any trusted device: https://auth.classiq.io/activate?user_code=HMFS-PFXB\n"
     ]
    },
    {
     "name": "stderr",
     "output_type": "stream",
     "text": [
      "/usr/bin/xdg-open: 882: x-www-browser: not found\n",
      "/usr/bin/xdg-open: 882: firefox: not found\n",
      "/usr/bin/xdg-open: 882: iceweasel: not found\n",
      "/usr/bin/xdg-open: 882: seamonkey: not found\n",
      "/usr/bin/xdg-open: 882: mozilla: not found\n",
      "/usr/bin/xdg-open: 882: epiphany: not found\n",
      "/usr/bin/xdg-open: 882: konqueror: not found\n",
      "/usr/bin/xdg-open: 882: chromium: not found\n",
      "/usr/bin/xdg-open: 882: chromium-browser: not found\n",
      "/usr/bin/xdg-open: 882: google-chrome: not found\n",
      "/usr/bin/xdg-open: 882: www-browser: not found\n",
      "/usr/bin/xdg-open: 882: links2: not found\n",
      "/usr/bin/xdg-open: 882: elinks: not found\n",
      "/usr/bin/xdg-open: 882: links: not found\n",
      "/usr/bin/xdg-open: 882: lynx: not found\n",
      "/usr/bin/xdg-open: 882: w3m: not found\n",
      "xdg-open: no method available for opening 'https://auth.classiq.io/activate?user_code=HMFS-PFXB'\n"
     ]
    }
   ],
   "source": [
    "import classiq\n",
    "\n",
    "classiq.authenticate()"
   ]
  },
  {
   "cell_type": "code",
   "execution_count": 1,
   "metadata": {},
   "outputs": [
    {
     "name": "stderr",
     "output_type": "stream",
     "text": [
      "/home/natashaval/.local/lib/python3.10/site-packages/matplotlib/projections/__init__.py:63: UserWarning: Unable to import Axes3D. This may be due to multiple versions of Matplotlib being installed (e.g. as a system package and as a pip package). As a result, the 3D projection is not available.\n",
      "  warnings.warn(\"Unable to import Axes3D. This may be due to multiple versions of \"\n"
     ]
    }
   ],
   "source": [
    "from classiq import Output, QNum, allocate, hadamard_transform, qfunc\n",
    "\n",
    "@qfunc\n",
    "def main(x: Output[QNum], y: Output[QNum]):\n",
    "    allocate(4, x)\n",
    "    hadamard_transform(x) # create uniform superposition\n",
    "    y |= x**2 + 1"
   ]
  },
  {
   "cell_type": "code",
   "execution_count": 2,
   "metadata": {},
   "outputs": [
    {
     "name": "stdout",
     "output_type": "stream",
     "text": [
      "Opening: https://platform.classiq.io/circuit/419a756f-1606-4e33-9cb5-54e803976ac7?version=0.42.2\n"
     ]
    },
    {
     "name": "stderr",
     "output_type": "stream",
     "text": [
      "/bin/xdg-open: 882: x-www-browser: not found\n",
      "/bin/xdg-open: 882: firefox: not found\n",
      "/bin/xdg-open: 882: iceweasel: not found\n",
      "/bin/xdg-open: 882: seamonkey: not found\n",
      "/bin/xdg-open: 882: mozilla: not found\n",
      "/bin/xdg-open: 882: epiphany: not found\n",
      "/bin/xdg-open: 882: konqueror: not found\n",
      "/bin/xdg-open: 882: chromium: not found\n",
      "/bin/xdg-open: 882: chromium-browser: not found\n",
      "/bin/xdg-open: 882: google-chrome: not found\n",
      "/bin/xdg-open: 882: www-browser: not found\n",
      "/bin/xdg-open: 882: links2: not found\n",
      "/bin/xdg-open: 882: elinks: not found\n",
      "/bin/xdg-open: 882: links: not found\n",
      "/bin/xdg-open: 882: lynx: not found\n",
      "/bin/xdg-open: 882: w3m: not found\n",
      "xdg-open: no method available for opening 'https://platform.classiq.io/circuit/419a756f-1606-4e33-9cb5-54e803976ac7?version=0.42.2'\n"
     ]
    }
   ],
   "source": [
    "from classiq import create_model, show, synthesize\n",
    "\n",
    "quantum_program = synthesize(create_model(main))\n",
    "show(quantum_program)"
   ]
  },
  {
   "cell_type": "code",
   "execution_count": 3,
   "metadata": {},
   "outputs": [],
   "source": [
    "from classiq import write_qmod\n",
    "\n",
    "write_qmod(create_model(main), \"design\")"
   ]
  },
  {
   "cell_type": "markdown",
   "metadata": {},
   "source": [
    "https://docs.classiq.io/latest/classiq_101/classiq_concepts/design/quantum_variables_and_functions/#summary-quantum-variables-and-functions-guidelines"
   ]
  },
  {
   "cell_type": "code",
   "execution_count": 4,
   "metadata": {},
   "outputs": [
    {
     "name": "stdout",
     "output_type": "stream",
     "text": [
      "Opening: https://platform.classiq.io/circuit/c3134752-4180-4cc8-8d90-803108932e2b?version=0.42.2\n"
     ]
    },
    {
     "name": "stderr",
     "output_type": "stream",
     "text": [
      "/bin/xdg-open: 882: x-www-browser: not found\n",
      "/bin/xdg-open: 882: firefox: not found\n",
      "/bin/xdg-open: 882: iceweasel: not found\n",
      "/bin/xdg-open: 882: seamonkey: not found\n",
      "/bin/xdg-open: 882: mozilla: not found\n",
      "/bin/xdg-open: 882: epiphany: not found\n",
      "/bin/xdg-open: 882: konqueror: not found\n",
      "/bin/xdg-open: 882: chromium: not found\n",
      "/bin/xdg-open: 882: chromium-browser: not found\n",
      "/bin/xdg-open: 882: google-chrome: not found\n",
      "/bin/xdg-open: 882: www-browser: not found\n",
      "/bin/xdg-open: 882: links2: not found\n",
      "/bin/xdg-open: 882: elinks: not found\n",
      "/bin/xdg-open: 882: links: not found\n",
      "/bin/xdg-open: 882: lynx: not found\n",
      "/bin/xdg-open: 882: w3m: not found\n",
      "xdg-open: no method available for opening 'https://platform.classiq.io/circuit/c3134752-4180-4cc8-8d90-803108932e2b?version=0.42.2'\n"
     ]
    }
   ],
   "source": [
    "from classiq import QArray, X, qfunc\n",
    "\n",
    "@qfunc\n",
    "def flip_msb(reg: QArray):\n",
    "    X(reg[reg.len - 1])\n",
    "\n",
    "from classiq import Output, QBit, QNum, allocate\n",
    "\n",
    "@qfunc\n",
    "def main(indicator: Output[QBit]):\n",
    "\n",
    "    x = QNum(\"x\")\n",
    "    allocate(4, x)\n",
    "    flip_msb(x)\n",
    "\n",
    "    indicator |= x == 8\n",
    "\n",
    "from classiq import create_model, show, synthesize\n",
    "\n",
    "quantum_program = synthesize(create_model(main))\n",
    "show(quantum_program)"
   ]
  },
  {
   "cell_type": "code",
   "execution_count": 5,
   "metadata": {},
   "outputs": [
    {
     "name": "stdout",
     "output_type": "stream",
     "text": [
      "[{'indicator': 1.0}: 2048]\n"
     ]
    }
   ],
   "source": [
    "from classiq import execute\n",
    "\n",
    "job = execute(quantum_program)\n",
    "results = job.result()[0].value.parsed_counts\n",
    "print(results)"
   ]
  },
  {
   "cell_type": "code",
   "execution_count": 6,
   "metadata": {},
   "outputs": [],
   "source": [
    "from classiq import write_qmod\n",
    "\n",
    "write_qmod(create_model(main), \"quantum_variables_and_functions\")"
   ]
  },
  {
   "cell_type": "markdown",
   "metadata": {},
   "source": [
    "https://docs.classiq.io/latest/classiq_101/classiq_concepts/design/quantum_operations/"
   ]
  },
  {
   "cell_type": "code",
   "execution_count": 7,
   "metadata": {},
   "outputs": [],
   "source": [
    "from classiq import QNum, control, inplace_prepare_int, qfunc\n",
    "\n",
    "@qfunc\n",
    "def apply_control(x: QNum, y: QNum):\n",
    "    control(ctrl=(x == 15), operand=lambda: inplace_prepare_int(17, y))"
   ]
  },
  {
   "cell_type": "code",
   "execution_count": 8,
   "metadata": {},
   "outputs": [],
   "source": [
    "from classiq import Output, allocate, hadamard_transform\n",
    "\n",
    "@qfunc\n",
    "def main(x: Output[QNum], y: Output[QNum]):\n",
    "    allocate(4, x)\n",
    "    allocate(5, y)\n",
    "\n",
    "    hadamard_transform(x)\n",
    "    apply_control(x, y)"
   ]
  },
  {
   "cell_type": "code",
   "execution_count": 9,
   "metadata": {},
   "outputs": [
    {
     "name": "stdout",
     "output_type": "stream",
     "text": [
      "Opening: https://platform.classiq.io/circuit/372ce5c4-0189-42f0-8348-546c4c2b55e5?version=0.42.2\n"
     ]
    },
    {
     "name": "stderr",
     "output_type": "stream",
     "text": [
      "/bin/xdg-open: 882: x-www-browser: not found\n",
      "/bin/xdg-open: 882: firefox: not found\n",
      "/bin/xdg-open: 882: iceweasel: not found\n",
      "/bin/xdg-open: 882: seamonkey: not found\n",
      "/bin/xdg-open: 882: mozilla: not found\n",
      "/bin/xdg-open: 882: epiphany: not found\n",
      "/bin/xdg-open: 882: konqueror: not found\n",
      "/bin/xdg-open: 882: chromium: not found\n",
      "/bin/xdg-open: 882: chromium-browser: not found\n",
      "/bin/xdg-open: 882: google-chrome: not found\n",
      "/bin/xdg-open: 882: www-browser: not found\n",
      "/bin/xdg-open: 882: links2: not found\n",
      "/bin/xdg-open: 882: elinks: not found\n",
      "/bin/xdg-open: 882: links: not found\n",
      "/bin/xdg-open: 882: lynx: not found\n",
      "/bin/xdg-open: 882: w3m: not found\n",
      "xdg-open: no method available for opening 'https://platform.classiq.io/circuit/372ce5c4-0189-42f0-8348-546c4c2b55e5?version=0.42.2'\n"
     ]
    }
   ],
   "source": [
    "from classiq import create_model, show, synthesize\n",
    "\n",
    "quantum_program = synthesize(create_model(main))\n",
    "show(quantum_program)"
   ]
  },
  {
   "cell_type": "code",
   "execution_count": 10,
   "metadata": {},
   "outputs": [
    {
     "name": "stdout",
     "output_type": "stream",
     "text": [
      "[{'x': 4.0, 'y': 0.0}: 146, {'x': 14.0, 'y': 0.0}: 143, {'x': 12.0, 'y': 0.0}: 142, {'x': 7.0, 'y': 0.0}: 140, {'x': 15.0, 'y': 17.0}: 138, {'x': 10.0, 'y': 0.0}: 136, {'x': 0.0, 'y': 0.0}: 133, {'x': 11.0, 'y': 0.0}: 132, {'x': 13.0, 'y': 0.0}: 130, {'x': 8.0, 'y': 0.0}: 130, {'x': 5.0, 'y': 0.0}: 123, {'x': 6.0, 'y': 0.0}: 115, {'x': 2.0, 'y': 0.0}: 114, {'x': 9.0, 'y': 0.0}: 113, {'x': 3.0, 'y': 0.0}: 108, {'x': 1.0, 'y': 0.0}: 105]\n"
     ]
    }
   ],
   "source": [
    "from classiq import execute\n",
    "\n",
    "job = execute(quantum_program)\n",
    "results = job.result()[0].value.parsed_counts\n",
    "print(results)"
   ]
  },
  {
   "cell_type": "code",
   "execution_count": 11,
   "metadata": {},
   "outputs": [],
   "source": [
    "from classiq import write_qmod\n",
    "\n",
    "write_qmod(create_model(main), \"quantum_operations\")"
   ]
  },
  {
   "cell_type": "code",
   "execution_count": null,
   "metadata": {},
   "outputs": [],
   "source": []
  }
 ],
 "metadata": {
  "kernelspec": {
   "display_name": ".venv",
   "language": "python",
   "name": "python3"
  },
  "language_info": {
   "codemirror_mode": {
    "name": "ipython",
    "version": 3
   },
   "file_extension": ".py",
   "mimetype": "text/x-python",
   "name": "python",
   "nbconvert_exporter": "python",
   "pygments_lexer": "ipython3",
   "version": "3.10.12"
  }
 },
 "nbformat": 4,
 "nbformat_minor": 2
}
